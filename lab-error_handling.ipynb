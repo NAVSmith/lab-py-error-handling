{
 "cells": [
  {
   "cell_type": "markdown",
   "metadata": {},
   "source": [
    "# LAB | Error Handling in Python\n",
    "\n",
    "## Overview\n",
    "This exercise notebook will help you practice error handling in Python using exceptions. You will write programs that handle various types of exceptions to ensure your code runs smoothly and handles errors gracefully."
   ]
  },
  {
   "cell_type": "markdown",
   "metadata": {},
   "source": [
    "### Exercise 1: Handle ZeroDivisionError\n",
    "Write a Python program to handle a `ZeroDivisionError` exception when dividing a number by zero.\n"
   ]
  },
  {
   "cell_type": "code",
   "execution_count": null,
   "metadata": {},
   "outputs": [],
   "source": [
    "# Your code here\n",
    "try:\n",
    "    result = 84 / 0\n",
    "except ZeroDivisionError:\n",
    "    print(\"Error: Division by zero is not allowed.\")\n"
   ]
  },
  {
   "cell_type": "markdown",
   "metadata": {},
   "source": [
    "\n",
    "### Exercise 2: Raise ValueError for Invalid Input\n",
    "Write a Python program that prompts the user to input an integer and raises a `ValueError` exception if the input is not a valid integer.\n",
    "\n"
   ]
  },
  {
   "cell_type": "code",
   "execution_count": 2,
   "metadata": {},
   "outputs": [
    {
     "name": "stdout",
     "output_type": "stream",
     "text": [
      "Error: Invalid input. Please enter a valid number.\n",
      "34 is a valid integer.\n"
     ]
    },
    {
     "data": {
      "text/plain": [
       "34"
      ]
     },
     "execution_count": 2,
     "metadata": {},
     "output_type": "execute_result"
    }
   ],
   "source": [
    "# Your code here\n",
    "#Write a Python program that prompts the user to input an integer and raises a `ValueError` exception if the input is not a valid integer.\n",
    "\n",
    "def input_number():\n",
    "    try:\n",
    "        user_input = input(\"Please enter a number: \")\n",
    "        if not user_input.isdigit():\n",
    "            raise ValueError(\"Error: Invalid input. Please enter a valid number.\")\n",
    "        number = int(user_input)\n",
    "        print(f'{number} is a valid integer.')\n",
    "        return number\n",
    "    except ValueError:\n",
    "        print(\"Error: Invalid input. Please enter a valid number.\")\n",
    "        return input_number()  # Recursive call to prompt again\n",
    "\n",
    "    \n",
    "\n",
    "\n",
    "input_number()"
   ]
  },
  {
   "cell_type": "markdown",
   "metadata": {},
   "source": [
    "\n",
    "\n",
    "### Exercise 3: Handle FileNotFoundError\n",
    "Write a Python program that opens a file and handles a `FileNotFoundError` exception if the file does not exist.\n",
    "\n"
   ]
  },
  {
   "cell_type": "code",
   "execution_count": 3,
   "metadata": {},
   "outputs": [
    {
     "name": "stdout",
     "output_type": "stream",
     "text": [
      "Error: The file was not found.\n"
     ]
    }
   ],
   "source": [
    "# Your code here\n",
    "try:\n",
    "    with open('non_existent_file.txt', 'r') as file:\n",
    "        content = file.read()\n",
    "except FileNotFoundError:\n",
    "    print(\"Error: The file was not found.\")"
   ]
  },
  {
   "cell_type": "markdown",
   "metadata": {},
   "source": [
    "\n",
    "\n",
    "### Exercise 4: Raise TypeError for Non-Numerical Input\n",
    "Write a Python program that prompts the user to input two numbers and raises a `TypeError` exception if the inputs are not numerical.\n",
    "\n"
   ]
  },
  {
   "cell_type": "code",
   "execution_count": 5,
   "metadata": {},
   "outputs": [
    {
     "name": "stdout",
     "output_type": "stream",
     "text": [
      "enter two numbers one at a time\n",
      "5454 is a valid integer.\n",
      "Error: Invalid input. Please enter a valid number.\n",
      "44 is a valid integer.\n",
      "You entered 5454 and 44, both are valid integers.\n"
     ]
    },
    {
     "data": {
      "text/plain": [
       "(5454, 44)"
      ]
     },
     "execution_count": 5,
     "metadata": {},
     "output_type": "execute_result"
    }
   ],
   "source": [
    "# Your code here\n",
    "def check_if_input_number(text_to_display):\n",
    "    try:\n",
    "        user_input = input(text_to_display)\n",
    "        if not user_input.isdigit():\n",
    "            raise ValueError(\"Error: Invalid input. Please enter a valid number.\")\n",
    "        number = int(user_input)\n",
    "        print(f'{number} is a valid integer.')\n",
    "        return number\n",
    "    except ValueError:\n",
    "        print(\"Error: Invalid input. Please enter a valid number.\")\n",
    "        return input_number()  # Recursive call to prompt again\n",
    "\n",
    "\n",
    "\n",
    "def input_two_numbers():\n",
    "    try:\n",
    "        print('enter two numbers one at a time')\n",
    "        user_input_1 = check_if_input_number(\"Please enter the first number: \")\n",
    "        user_input_2 = check_if_input_number(\"Please enter the second number: \")\n",
    "        print(f'You entered {user_input_1} and {user_input_2}, both are valid integers.')\n",
    "        return user_input_1, user_input_2\n",
    "    except ValueError:\n",
    "        print(\"Error: Invalid input. Please enter a valid number.\")\n",
    "        return input_number()  # Recursive call to prompt again\n",
    "\n",
    "\n",
    "     \n",
    "\n",
    "input_two_numbers()"
   ]
  },
  {
   "cell_type": "markdown",
   "metadata": {},
   "source": [
    "\n",
    "\n",
    "### Exercise 5: Handle PermissionError\n",
    "Write a Python program that opens a file and handles a `PermissionError` exception if there is a permission issue.\n",
    "\n",
    "\n"
   ]
  },
  {
   "cell_type": "code",
   "execution_count": 6,
   "metadata": {},
   "outputs": [
    {
     "ename": "FileNotFoundError",
     "evalue": "[Errno 2] No such file or directory: '/root/secret_file.txt'",
     "output_type": "error",
     "traceback": [
      "\u001b[31m---------------------------------------------------------------------------\u001b[39m",
      "\u001b[31mFileNotFoundError\u001b[39m                         Traceback (most recent call last)",
      "\u001b[36mCell\u001b[39m\u001b[36m \u001b[39m\u001b[32mIn[6]\u001b[39m\u001b[32m, line 4\u001b[39m\n\u001b[32m      1\u001b[39m \u001b[38;5;66;03m# Your code here\u001b[39;00m\n\u001b[32m      2\u001b[39m \u001b[38;5;66;03m# handle permission error\u001b[39;00m\n\u001b[32m      3\u001b[39m \u001b[38;5;28;01mtry\u001b[39;00m:\n\u001b[32m----> \u001b[39m\u001b[32m4\u001b[39m     \u001b[38;5;28;01mwith\u001b[39;00m \u001b[38;5;28;43mopen\u001b[39;49m\u001b[43m(\u001b[49m\u001b[33;43m'\u001b[39;49m\u001b[33;43m/root/secret_file.txt\u001b[39;49m\u001b[33;43m'\u001b[39;49m\u001b[43m,\u001b[49m\u001b[43m \u001b[49m\u001b[33;43m'\u001b[39;49m\u001b[33;43mr\u001b[39;49m\u001b[33;43m'\u001b[39;49m\u001b[43m)\u001b[49m \u001b[38;5;28;01mas\u001b[39;00m file:\n\u001b[32m      5\u001b[39m         content = file.read()\n\u001b[32m      6\u001b[39m \u001b[38;5;28;01mexcept\u001b[39;00m \u001b[38;5;167;01mPermissionError\u001b[39;00m:\n",
      "\u001b[36mFile \u001b[39m\u001b[32m~/ironhack/labs/.venv/lib/python3.11/site-packages/IPython/core/interactiveshell.py:343\u001b[39m, in \u001b[36m_modified_open\u001b[39m\u001b[34m(file, *args, **kwargs)\u001b[39m\n\u001b[32m    336\u001b[39m \u001b[38;5;28;01mif\u001b[39;00m file \u001b[38;5;129;01min\u001b[39;00m {\u001b[32m0\u001b[39m, \u001b[32m1\u001b[39m, \u001b[32m2\u001b[39m}:\n\u001b[32m    337\u001b[39m     \u001b[38;5;28;01mraise\u001b[39;00m \u001b[38;5;167;01mValueError\u001b[39;00m(\n\u001b[32m    338\u001b[39m         \u001b[33mf\u001b[39m\u001b[33m\"\u001b[39m\u001b[33mIPython won\u001b[39m\u001b[33m'\u001b[39m\u001b[33mt let you open fd=\u001b[39m\u001b[38;5;132;01m{\u001b[39;00mfile\u001b[38;5;132;01m}\u001b[39;00m\u001b[33m by default \u001b[39m\u001b[33m\"\u001b[39m\n\u001b[32m    339\u001b[39m         \u001b[33m\"\u001b[39m\u001b[33mas it is likely to crash IPython. If you know what you are doing, \u001b[39m\u001b[33m\"\u001b[39m\n\u001b[32m    340\u001b[39m         \u001b[33m\"\u001b[39m\u001b[33myou can use builtins\u001b[39m\u001b[33m'\u001b[39m\u001b[33m open.\u001b[39m\u001b[33m\"\u001b[39m\n\u001b[32m    341\u001b[39m     )\n\u001b[32m--> \u001b[39m\u001b[32m343\u001b[39m \u001b[38;5;28;01mreturn\u001b[39;00m \u001b[43mio_open\u001b[49m\u001b[43m(\u001b[49m\u001b[43mfile\u001b[49m\u001b[43m,\u001b[49m\u001b[43m \u001b[49m\u001b[43m*\u001b[49m\u001b[43margs\u001b[49m\u001b[43m,\u001b[49m\u001b[43m \u001b[49m\u001b[43m*\u001b[49m\u001b[43m*\u001b[49m\u001b[43mkwargs\u001b[49m\u001b[43m)\u001b[49m\n",
      "\u001b[31mFileNotFoundError\u001b[39m: [Errno 2] No such file or directory: '/root/secret_file.txt'"
     ]
    }
   ],
   "source": [
    "# Your code here\n",
    "# handle permission error\n",
    "try:\n",
    "    with open('/root/secret_file.txt', 'r') as file:\n",
    "        content = file.read()\n",
    "except PermissionError:\n",
    "    print(\"Error: You do not have permission to access this file.\")"
   ]
  },
  {
   "cell_type": "markdown",
   "metadata": {},
   "source": [
    "\n",
    "\n",
    "### Exercise 6: Handle IndexError in List Operations\n",
    "Write a Python program that executes an operation on a list and handles an `IndexError` exception if the index is out of range.\n",
    "\n",
    "\n"
   ]
  },
  {
   "cell_type": "code",
   "execution_count": 7,
   "metadata": {},
   "outputs": [
    {
     "name": "stdout",
     "output_type": "stream",
     "text": [
      "Error: Index out of range. Please access a valid index in the list.\n"
     ]
    }
   ],
   "source": [
    "# Your code here\n",
    "## handle index error\n",
    "my_list = [1, 2, 3, 4, 5]\n",
    "try:\n",
    "    print(my_list[10])\n",
    "except IndexError:\n",
    "    print(\"Error: Index out of range. Please access a valid index in the list.\")"
   ]
  },
  {
   "cell_type": "markdown",
   "metadata": {},
   "source": [
    "\n",
    "\n",
    "### Exercise 7: Handle KeyboardInterrupt Exception\n",
    "Write a Python program that prompts the user to input a number and handles a `KeyboardInterrupt` exception if the user cancels the input.\n",
    "\n"
   ]
  },
  {
   "cell_type": "code",
   "execution_count": 18,
   "metadata": {},
   "outputs": [
    {
     "name": "stdout",
     "output_type": "stream",
     "text": [
      "Input cancelled by user.\n"
     ]
    }
   ],
   "source": [
    "# Your code here\n",
    "try:\n",
    "    user_input = input(\"Please enter a number: \")\n",
    "    print(f\"You entered: {user_input}\")\n",
    "except KeyboardInterrupt:\n",
    "    print(\"Input cancelled by user.\")"
   ]
  },
  {
   "cell_type": "markdown",
   "metadata": {},
   "source": [
    "\n",
    "\n",
    "### Exercise 8: Handle ArithmeticError\n",
    "Write a Python program that executes division and handles an `ArithmeticError` exception if there is an arithmetic error.\n",
    "\n"
   ]
  },
  {
   "cell_type": "code",
   "execution_count": 20,
   "metadata": {},
   "outputs": [
    {
     "name": "stdout",
     "output_type": "stream",
     "text": [
      "Error: An arithmetic error occurred during the division.\n"
     ]
    }
   ],
   "source": [
    "# Your code here\n",
    "# program that executes division and handles an `ArithmeticError` exception if there is an arithmetic error.\n",
    "try:\n",
    "    num1 = float(input(\"Enter the numerator: \"))\n",
    "    num2 = float(input(\"Enter the denominator: \"))\n",
    "    result = num1 / num2\n",
    "    print(f\"The result of {num1} divided by {num2} is {result}.\")\n",
    "except ArithmeticError:\n",
    "    print(\"Error: An arithmetic error occurred during the division.\")"
   ]
  },
  {
   "cell_type": "markdown",
   "metadata": {},
   "source": [
    "\n",
    "\n",
    "### Exercise 9: Handle UnicodeDecodeError\n",
    "Write a Python program that opens a file and handles a `UnicodeDecodeError` exception if there is an encoding issue.\n",
    "\n"
   ]
  },
  {
   "cell_type": "code",
   "execution_count": 27,
   "metadata": {},
   "outputs": [
    {
     "name": "stdout",
     "output_type": "stream",
     "text": [
      "Attempting to read a file with potential encoding issues...\n",
      "Error: Invalid input: ggd. Please enter a valid number.\n",
      "\n"
     ]
    }
   ],
   "source": [
    "# Your code here\n",
    "print(\"Attempting to read a file with potential encoding issues...\")\n",
    "try:\n",
    "    with open('error_log.txt', 'r', encoding='utf-8') as file:\n",
    "        content = file.read()\n",
    "        print(content)\n",
    "except UnicodeDecodeError:\n",
    "    print(\"Error: Unable to decode the file. Please check the file encoding.\")"
   ]
  },
  {
   "cell_type": "markdown",
   "metadata": {},
   "source": [
    "\n",
    "\n",
    "### Exercise 10: Handle AttributeError\n",
    "Write a Python program that executes an operation on an object and handles an `AttributeError` exception if the attribute does not exist.\n"
   ]
  },
  {
   "cell_type": "code",
   "execution_count": 29,
   "metadata": {},
   "outputs": [
    {
     "name": "stdout",
     "output_type": "stream",
     "text": [
      "AttributeError: The attribute does not exist.\n"
     ]
    }
   ],
   "source": [
    "# Your code here\n",
    "#Write a Python program that executes an operation on an object and handles an `AttributeError` exception if the attribute does not exist.\n",
    "d = {'a': 1 ,\n",
    "     'b': 2\n",
    "     }\n",
    "try:\n",
    "    print(d['c'])\n",
    "except KeyError:\n",
    "    print(\"AttributeError: The attribute does not exist.\")"
   ]
  },
  {
   "cell_type": "markdown",
   "metadata": {},
   "source": [
    "\n",
    "\n",
    "## Bonus Exercises\n",
    "\n",
    "### Bonus Exercise 1: Handle Multiple Exceptions\n",
    "Write a Python program that demonstrates handling multiple exceptions in one block.\n",
    "\n",
    "\n"
   ]
  },
  {
   "cell_type": "code",
   "execution_count": 12,
   "metadata": {},
   "outputs": [
    {
     "name": "stdout",
     "output_type": "stream",
     "text": [
      "Result: 5.0\n",
      "Error: Division by zero is not allowed.\n",
      "Error: Invalid input type. Please enter numbers.\n"
     ]
    }
   ],
   "source": [
    "# Your code here\n",
    "#Write a Python program that demonstrates handling multiple exceptions in one block.\n",
    "\n",
    "def divide_numbers(num1, num2):\n",
    "    try:\n",
    "        result = num1 / num2\n",
    "        print(f\"Result: {result}\")\n",
    "    except ZeroDivisionError:\n",
    "        print(\"Error: Division by zero is not allowed.\")\n",
    "    except TypeError:\n",
    "        print(\"Error: Invalid input type. Please enter numbers.\")\n",
    "\n",
    "divide_numbers(10, 2)  # Valid case\n",
    "divide_numbers(10, 0)  # Division by zero\n",
    "divide_numbers(10, \"a\")  # Invalid type "
   ]
  },
  {
   "cell_type": "markdown",
   "metadata": {},
   "source": [
    "\n",
    "\n",
    "### Bonus Exercise 2: Create Custom Exception\n",
    "Create a custom exception class and raise it in your code when certain conditions are met.\n",
    "\n",
    "\n"
   ]
  },
  {
   "cell_type": "code",
   "execution_count": 16,
   "metadata": {},
   "outputs": [
    {
     "ename": "ValueError",
     "evalue": "Negative numbers are not allowed.",
     "output_type": "error",
     "traceback": [
      "\u001b[31m---------------------------------------------------------------------------\u001b[39m",
      "\u001b[31mValueError\u001b[39m                                Traceback (most recent call last)",
      "\u001b[36mCell\u001b[39m\u001b[36m \u001b[39m\u001b[32mIn[16]\u001b[39m\u001b[32m, line 4\u001b[39m\n\u001b[32m      2\u001b[39m u_input = \u001b[38;5;28minput\u001b[39m(\u001b[33m\"\u001b[39m\u001b[33mEnter a number: \u001b[39m\u001b[33m\"\u001b[39m)\n\u001b[32m      3\u001b[39m \u001b[38;5;28;01mif\u001b[39;00m \u001b[38;5;28mint\u001b[39m(u_input) < \u001b[32m0\u001b[39m:\n\u001b[32m----> \u001b[39m\u001b[32m4\u001b[39m     \u001b[38;5;28;01mraise\u001b[39;00m \u001b[38;5;167;01mValueError\u001b[39;00m(\u001b[33m\"\u001b[39m\u001b[33mNegative numbers are not allowed.\u001b[39m\u001b[33m\"\u001b[39m)\n\u001b[32m      5\u001b[39m \u001b[38;5;28mprint\u001b[39m(\u001b[33mf\u001b[39m\u001b[33m\"\u001b[39m\u001b[33mYou entered: \u001b[39m\u001b[38;5;132;01m{\u001b[39;00mu_input\u001b[38;5;132;01m}\u001b[39;00m\u001b[33m\"\u001b[39m) \n",
      "\u001b[31mValueError\u001b[39m: Negative numbers are not allowed."
     ]
    }
   ],
   "source": [
    "# Your code here\n",
    "u_input = input(\"Enter a number: \")\n",
    "if int(u_input) < 0:\n",
    "    raise ValueError(\"Negative numbers are not allowed.\")\n",
    "print(f\"You entered: {u_input}\") "
   ]
  },
  {
   "cell_type": "markdown",
   "metadata": {},
   "source": [
    "\n",
    "\n",
    "### Bonus Exercise 3: Validate User Input with Exception Handling\n",
    "Write a program that repeatedly prompts the user for valid input until they provide it, using exception handling to manage invalid inputs.\n",
    "\n"
   ]
  },
  {
   "cell_type": "code",
   "execution_count": 9,
   "metadata": {},
   "outputs": [
    {
     "name": "stdout",
     "output_type": "stream",
     "text": [
      "Error: Invalid input. Please enter a valid number.\n",
      "34 is a valid integer.\n"
     ]
    },
    {
     "data": {
      "text/plain": [
       "34"
      ]
     },
     "execution_count": 9,
     "metadata": {},
     "output_type": "execute_result"
    }
   ],
   "source": [
    "# Your code here\n",
    "def input_number():\n",
    "    try:\n",
    "        user_input = input(\"Please enter a number: \")\n",
    "        if not user_input.isdigit():\n",
    "            raise ValueError(\"Error: Invalid input. Please enter a valid number.\")\n",
    "        number = int(user_input)\n",
    "        print(f'{number} is a valid integer.')\n",
    "        return number\n",
    "    except ValueError:\n",
    "        print(\"Error: Invalid input. Please enter a valid number.\")\n",
    "        return input_number()  # Recursive call to prompt again\n",
    "\n",
    "    \n",
    "\n",
    "\n",
    "input_number()"
   ]
  },
  {
   "cell_type": "markdown",
   "metadata": {},
   "source": [
    "\n",
    "\n",
    "### Bonus Exercise 4: Log Errors to File\n",
    "Modify your error handling to log errors to a text file instead of printing them to the console.\n",
    "\n"
   ]
  },
  {
   "cell_type": "code",
   "execution_count": 11,
   "metadata": {},
   "outputs": [
    {
     "name": "stdout",
     "output_type": "stream",
     "text": [
      "Error: Invalid input. Please enter a valid number.\n",
      "55453 is a valid integer.\n"
     ]
    },
    {
     "data": {
      "text/plain": [
       "55453"
      ]
     },
     "execution_count": 11,
     "metadata": {},
     "output_type": "execute_result"
    }
   ],
   "source": [
    "# Your code here\n",
    "#Modify your error handling to log errors to a text file instead of printing them to the console.\n",
    "\n",
    "def log_error(error_message):\n",
    "    with open(\"error_log.txt\", \"a\") as log_file:\n",
    "        log_file.write(error_message + \"\\n\")\n",
    "\n",
    "\n",
    "def input_number():\n",
    "    try:\n",
    "        user_input = input(\"Please enter a number: \")\n",
    "        if not user_input.isdigit():\n",
    "            raise ValueError(\"Error: Invalid input. Please enter a valid number.\")\n",
    "        number = int(user_input)\n",
    "        print(f'{number} is a valid integer.')\n",
    "        return number\n",
    "    except ValueError:\n",
    "        print(\"Error: Invalid input. Please enter a valid number.\")\n",
    "        log_error(f\"Error: Invalid input: {user_input}. Please enter a valid number.\")\n",
    "        return input_number()  # Recursive call to prompt again\n",
    "\n",
    "    \n",
    "\n",
    "\n",
    "input_number()\n",
    "\n"
   ]
  },
  {
   "cell_type": "markdown",
   "metadata": {},
   "source": [
    "\n",
    "\n",
    "### Bonus Exercise 5: Retry Logic on Exception\n",
    "Implement retry logic for operations that could fail, allowing users to try again after encountering an error.\n",
    "\n"
   ]
  },
  {
   "cell_type": "code",
   "execution_count": null,
   "metadata": {},
   "outputs": [],
   "source": [
    "# Your code here\n",
    "# Your code here\n",
    "#Modify your error handling to log errors to a text file instead of printing them to the console.\n",
    "\n",
    "def log_error(error_message):\n",
    "    with open(\"error_log.txt\", \"a\") as log_file:\n",
    "        log_file.write(error_message + \"\\n\")\n",
    "\n",
    "\n",
    "def input_number():\n",
    "    try:\n",
    "        user_input = input(\"Please enter a number: \")\n",
    "        if not user_input.isdigit():\n",
    "            raise ValueError(\"Error: Invalid input. Please enter a valid number.\")\n",
    "        number = int(user_input)\n",
    "        print(f'{number} is a valid integer.')\n",
    "        return number\n",
    "    except ValueError:\n",
    "        print(\"Error: Invalid input. Please enter a valid number.\")\n",
    "        log_error(f\"Error: Invalid input: {user_input}. Please enter a valid number.\")\n",
    "        return input_number()  # Recursive call to prompt again\n",
    "\n",
    "    \n",
    "\n",
    "\n",
    "input_number()"
   ]
  }
 ],
 "metadata": {
  "kernelspec": {
   "display_name": ".venv",
   "language": "python",
   "name": "python3"
  },
  "language_info": {
   "codemirror_mode": {
    "name": "ipython",
    "version": 3
   },
   "file_extension": ".py",
   "mimetype": "text/x-python",
   "name": "python",
   "nbconvert_exporter": "python",
   "pygments_lexer": "ipython3",
   "version": "3.11.6"
  }
 },
 "nbformat": 4,
 "nbformat_minor": 2
}
